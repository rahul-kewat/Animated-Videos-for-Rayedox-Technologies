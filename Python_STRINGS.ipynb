{
  "nbformat": 4,
  "nbformat_minor": 0,
  "metadata": {
    "colab": {
      "name": "Python_STRINGS.ipynb",
      "provenance": [],
      "collapsed_sections": [],
      "authorship_tag": "ABX9TyNtlgLoLjWsmoG5k60o7wKY",
      "include_colab_link": true
    },
    "kernelspec": {
      "name": "python3",
      "display_name": "Python 3"
    }
  },
  "cells": [
    {
      "cell_type": "markdown",
      "metadata": {
        "id": "view-in-github",
        "colab_type": "text"
      },
      "source": [
        "<a href=\"https://colab.research.google.com/github/rahul-kewat/Animated-Videos-for-Rayedox-Technologies/blob/master/Python_STRINGS.ipynb\" target=\"_parent\"><img src=\"https://colab.research.google.com/assets/colab-badge.svg\" alt=\"Open In Colab\"/></a>"
      ]
    },
    {
      "cell_type": "code",
      "metadata": {
        "id": "V0SA0dfYjg_U",
        "colab_type": "code",
        "colab": {
          "base_uri": "https://localhost:8080/",
          "height": 34
        },
        "outputId": "8dcc2098-4573-42d7-be94-3017361b4692"
      },
      "source": [
        "# Create a String Variable\n",
        "str1 = \"Hello Rayedox\"\n",
        "# print String Variable\n",
        "print(str1)"
      ],
      "execution_count": 3,
      "outputs": [
        {
          "output_type": "stream",
          "text": [
            "Hello Rayedox\n"
          ],
          "name": "stdout"
        }
      ]
    },
    {
      "cell_type": "code",
      "metadata": {
        "id": "svKtxZ9EkCiM",
        "colab_type": "code",
        "colab": {
          "base_uri": "https://localhost:8080/",
          "height": 52
        },
        "outputId": "0e8ac175-54eb-4c5a-975a-669acf63e02a"
      },
      "source": [
        "# Concatenate Two Strings\n",
        "str1 = \"Hello\"\n",
        "str2 = \"Rayedox\"\n",
        "# Concatenate two strings and print them \n",
        "print(str1 + str2)\n",
        "# Concatenate two stings and store them in third variable and then print third variable\n",
        "str3 = str1 + str2\n",
        "print(str3)"
      ],
      "execution_count": 6,
      "outputs": [
        {
          "output_type": "stream",
          "text": [
            "HelloRayedox\n",
            "HelloRayedox\n"
          ],
          "name": "stdout"
        }
      ]
    },
    {
      "cell_type": "code",
      "metadata": {
        "id": "dGBYNEOnlF4u",
        "colab_type": "code",
        "colab": {}
      },
      "source": [
        ""
      ],
      "execution_count": null,
      "outputs": []
    }
  ]
}